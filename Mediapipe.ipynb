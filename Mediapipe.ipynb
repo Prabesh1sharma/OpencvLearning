{
 "cells": [
  {
   "cell_type": "code",
   "execution_count": 1,
   "id": "7b4e823a-89db-4f52-bff7-caec3e080300",
   "metadata": {},
   "outputs": [],
   "source": [
    "import cv2\n",
    "import mediapipe as mp"
   ]
  },
  {
   "cell_type": "code",
   "execution_count": 6,
   "id": "4c6da41a-a67f-4473-b7be-aaffad862b92",
   "metadata": {},
   "outputs": [],
   "source": [
    "mp_face_det = mp.solutions.face_detection\n",
    "mp.draw = mp.solutions.drawing_utils"
   ]
  },
  {
   "cell_type": "code",
   "execution_count": 5,
   "id": "ee1d277e-a525-4641-948e-3b4d8615df41",
   "metadata": {},
   "outputs": [],
   "source": [
    "face_dect = mp_face_det.FaceDetection(min_detection_confidence = 1,model_selection=0 )\n",
    "cap = cv2.VideoCapture(0)\n",
    "while cap.isOpened():\n",
    "    r,frame = cap.read() \n",
    "    frame = cv2.flip(frame,1)\n",
    "    if r == True:\n",
    "        \n",
    "        cv2.imshow(\"opencv\",frame)\n",
    "        \n",
    "        if cv2.waitKey(25) & 0xff == ord('p'): \n",
    "            break\n",
    "    else:\n",
    "        break\n",
    "        \n",
    "\n",
    "\n",
    "cap.release()\n",
    "cv2.destroyAllWindows()"
   ]
  },
  {
   "cell_type": "code",
   "execution_count": null,
   "id": "4b32636c-3704-424f-83e9-0860b2ba03bd",
   "metadata": {},
   "outputs": [],
   "source": []
  }
 ],
 "metadata": {
  "kernelspec": {
   "display_name": "Python 3 (ipykernel)",
   "language": "python",
   "name": "python3"
  },
  "language_info": {
   "codemirror_mode": {
    "name": "ipython",
    "version": 3
   },
   "file_extension": ".py",
   "mimetype": "text/x-python",
   "name": "python",
   "nbconvert_exporter": "python",
   "pygments_lexer": "ipython3",
   "version": "3.11.3"
  }
 },
 "nbformat": 4,
 "nbformat_minor": 5
}
