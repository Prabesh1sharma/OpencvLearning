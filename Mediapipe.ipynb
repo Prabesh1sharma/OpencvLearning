{
 "cells": [
  {
   "cell_type": "code",
   "execution_count": 1,
   "id": "7b4e823a-89db-4f52-bff7-caec3e080300",
   "metadata": {},
   "outputs": [],
   "source": [
    "import cv2\n",
    "import mediapipe as mp"
   ]
  },
  {
   "cell_type": "code",
   "execution_count": 2,
   "id": "4c6da41a-a67f-4473-b7be-aaffad862b92",
   "metadata": {},
   "outputs": [],
   "source": [
    "mp_face_det = mp.solutions.face_detection\n",
    "mp_draw = mp.solutions.drawing_utils"
   ]
  },
  {
   "cell_type": "code",
   "execution_count": 8,
   "id": "ee1d277e-a525-4641-948e-3b4d8615df41",
   "metadata": {},
   "outputs": [],
   "source": [
    "import cv2\n",
    "import mediapipe as mp\n",
    "\n",
    "# Initialize Mediapipe Face Detection\n",
    "mp_face_det = mp.solutions.face_detection\n",
    "mp_draw = mp.solutions.drawing_utils\n",
    "\n",
    "# Create a face detection object\n",
    "face_detect = mp_face_det.FaceDetection(min_detection_confidence=1, model_selection=0)\n",
    "\n",
    "# Open the webcam\n",
    "cap = cv2.VideoCapture(0)\n",
    "\n",
    "while cap.isOpened():\n",
    "    r, frame = cap.read()\n",
    "    if r:\n",
    "        # Flip the frame horizontally for a later selfie-view display\n",
    "        frame = cv2.flip(frame, 1)\n",
    "        \n",
    "        # Convert the frame color to RGB\n",
    "        frame_rgb = cv2.cvtColor(frame, cv2.COLOR_BGR2RGB)\n",
    "        \n",
    "        # Process the frame and detect faces\n",
    "        result = face_detect.process(frame_rgb)\n",
    "        \n",
    "        # Convert the frame color back to BGR for OpenCV\n",
    "        frame = cv2.cvtColor(frame_rgb, cv2.COLOR_RGB2BGR)\n",
    "        \n",
    "        # Check if any faces are detected\n",
    "        if result.detections:\n",
    "            for cr in result.detections:\n",
    "                mp_draw.draw_detection(frame, cr)\n",
    "        \n",
    "        # Display the frame\n",
    "        cv2.imshow(\"opencv\", frame)\n",
    "        \n",
    "        # Break the loop if 'p' is pressed\n",
    "        if cv2.waitKey(25) & 0xFF == ord('p'):\n",
    "            break\n",
    "    else:\n",
    "        break\n",
    "\n",
    "# Release the video capture object and close all OpenCV windows\n",
    "cap.release()\n",
    "cv2.destroyAllWindows()\n"
   ]
  },
  {
   "cell_type": "markdown",
   "id": "ee3adc03-7355-472a-ac35-cb17cdb0bc8b",
   "metadata": {},
   "source": [
    "# MEdiapipe Hand Tracking"
   ]
  },
  {
   "cell_type": "code",
   "execution_count": 7,
   "id": "cfea672b-7a45-46f9-99bf-c51611ef3ae3",
   "metadata": {},
   "outputs": [
    {
     "name": "stderr",
     "output_type": "stream",
     "text": [
      "C:\\Users\\Acer\\AppData\\Local\\Programs\\Python\\Python311\\Lib\\site-packages\\google\\protobuf\\symbol_database.py:55: UserWarning: SymbolDatabase.GetPrototype() is deprecated. Please use message_factory.GetMessageClass() instead. SymbolDatabase.GetPrototype() will be removed soon.\n",
      "  warnings.warn('SymbolDatabase.GetPrototype() is deprecated. Please '\n"
     ]
    }
   ],
   "source": [
    "mp_drawing = mp.solutions.drawing_utils\n",
    "mp_drawing_styles = mp.solutions.drawing_styles\n",
    "mp_hand = mp.solutions.hands\n",
    "\n",
    "\n",
    "\n",
    "\n",
    "cap = cv2.VideoCapture(0)\n",
    "p = mp_hand.Hands(model_complexity=0,min_detection_confidence=0.5,min_tracking_confidence=0.5)\n",
    "while cap.isOpened():\n",
    "    r,frame = cap.read() \n",
    "    \n",
    "    if r == True:\n",
    "        frame = cv2.flip(frame,1)\n",
    "\n",
    "        img = cv2.cvtColor(frame, cv2.COLOR_BGR2RGB)\n",
    "        result = p.process(img)\n",
    "        frame = cv2.cvtColor(img,cv2.COLOR_RGB2BGR)\n",
    "\n",
    "        if result.multi_hand_landmarks:\n",
    "            for landmarks in result.multi_hand_landmarks:\n",
    "                mp_drawing.draw_landmarks(frame,landmarks,mp_hand.HAND_CONNECTIONS)\n",
    "\n",
    "        cv2.imshow(\"opencv\",frame)\n",
    "        \n",
    "        if cv2.waitKey(25) & 0xff == ord('p'): \n",
    "            break\n",
    "    else:\n",
    "        break\n",
    "        \n",
    "\n",
    "\n",
    "cap.release()\n",
    "cv2.destroyAllWindows()"
   ]
  },
  {
   "cell_type": "code",
   "execution_count": null,
   "id": "62aac63c-8c35-49ae-8909-7fa5ebfc3121",
   "metadata": {},
   "outputs": [],
   "source": []
  }
 ],
 "metadata": {
  "kernelspec": {
   "display_name": "Python 3 (ipykernel)",
   "language": "python",
   "name": "python3"
  },
  "language_info": {
   "codemirror_mode": {
    "name": "ipython",
    "version": 3
   },
   "file_extension": ".py",
   "mimetype": "text/x-python",
   "name": "python",
   "nbconvert_exporter": "python",
   "pygments_lexer": "ipython3",
   "version": "3.11.3"
  }
 },
 "nbformat": 4,
 "nbformat_minor": 5
}
