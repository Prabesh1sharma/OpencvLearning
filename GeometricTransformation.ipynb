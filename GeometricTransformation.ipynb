{
 "cells": [
  {
   "cell_type": "markdown",
   "id": "5c49561b-bb65-402c-99e5-ea56d5ece1bf",
   "metadata": {},
   "source": [
    "# Image pyramid"
   ]
  },
  {
   "cell_type": "markdown",
   "id": "018fa5ec-d766-4daf-bf55-40eda49115f6",
   "metadata": {},
   "source": [
    "Work with images with deafault resolution but many times we need to change the resolution (lower it) or resizes the original image in that case image pyramids comes handy"
   ]
  },
  {
   "cell_type": "code",
   "execution_count": 5,
   "id": "d6bd303b-8eed-4892-ad30-ea4fec874698",
   "metadata": {},
   "outputs": [],
   "source": [
    "import cv2 \n",
    "import numpy as np"
   ]
  },
  {
   "cell_type": "code",
   "execution_count": 2,
   "id": "d18d02e5-b46c-4cd4-8c1c-ca09979d82db",
   "metadata": {},
   "outputs": [],
   "source": [
    "img = cv2.imread(\"Images/101654506_8eb26cfb60.jpg\")\n",
    "cv2.imshow(\"opencv\",img)\n",
    "cv2.waitKey(0)\n",
    "cv2.destroyAllWindows()"
   ]
  },
  {
   "cell_type": "code",
   "execution_count": 13,
   "id": "a83dc9ad-36ec-4461-abc5-83678f0c1a1a",
   "metadata": {},
   "outputs": [
    {
     "name": "stdout",
     "output_type": "stream",
     "text": [
      "(429, 500, 3)\n",
      "(215, 250, 3)\n",
      "(108, 125, 3)\n"
     ]
    }
   ],
   "source": [
    "img = cv2.imread(\"Images/101654506_8eb26cfb60.jpg\")\n",
    "print(img.shape)\n",
    "new = cv2.pyrDown(img)\n",
    "new1 = cv2.pyrDown(new)\n",
    "cv2.imshow(\"opencv\",img)\n",
    "cv2.imshow(\"opencvnew\",new)\n",
    "cv2.imshow(\"opencvnew1\",new1)\n",
    "cv2.waitKey(0)\n",
    "cv2.destroyAllWindows()\n",
    "print(new.shape)\n",
    "print(new1.shape)"
   ]
  },
  {
   "cell_type": "code",
   "execution_count": 17,
   "id": "87ed2db9-d0a3-471d-a982-1199a159fbc7",
   "metadata": {},
   "outputs": [
    {
     "name": "stdout",
     "output_type": "stream",
     "text": [
      "(108, 125, 3)\n",
      "(216, 250, 3)\n",
      "(432, 500, 3)\n"
     ]
    }
   ],
   "source": [
    "img = cv2.imread(\"Images/101654506_8eb26cfb60.jpg\")\n",
    "\n",
    "big = cv2.pyrUp(new1)\n",
    "big1 = cv2.pyrUp(big)\n",
    "cv2.imshow(\"opencvnew1\",new1)\n",
    "cv2.imshow(\"opencvnewbig\",big)\n",
    "cv2.imshow(\"opencvnewbig1\",big1)\n",
    "cv2.waitKey(0)\n",
    "cv2.destroyAllWindows()\n",
    "\n",
    "print(new1.shape)\n",
    "print(big.shape)\n",
    "print(big1.shape)"
   ]
  },
  {
   "cell_type": "markdown",
   "id": "44894b62-9a22-472b-b1da-cd80cd281740",
   "metadata": {},
   "source": [
    "# Image Translation using opencv"
   ]
  },
  {
   "cell_type": "code",
   "execution_count": null,
   "id": "bbdabdc2-a9b6-43a6-87c1-06ed7a8f55d2",
   "metadata": {},
   "outputs": [],
   "source": []
  }
 ],
 "metadata": {
  "kernelspec": {
   "display_name": "Python 3 (ipykernel)",
   "language": "python",
   "name": "python3"
  },
  "language_info": {
   "codemirror_mode": {
    "name": "ipython",
    "version": 3
   },
   "file_extension": ".py",
   "mimetype": "text/x-python",
   "name": "python",
   "nbconvert_exporter": "python",
   "pygments_lexer": "ipython3",
   "version": "3.11.3"
  }
 },
 "nbformat": 4,
 "nbformat_minor": 5
}
