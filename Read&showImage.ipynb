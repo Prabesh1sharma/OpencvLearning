{
 "cells": [
  {
   "cell_type": "code",
   "execution_count": 1,
   "id": "c3a68be1-20a8-43e9-8786-90c6dfca329d",
   "metadata": {},
   "outputs": [],
   "source": [
    "import cv2\n",
    "import numpy as np\n",
    "import os "
   ]
  },
  {
   "cell_type": "code",
   "execution_count": 6,
   "id": "9d6caec8-bab6-47e8-bb9d-d38592498f29",
   "metadata": {},
   "outputs": [],
   "source": [
    "img = cv2.imread('Images/108899015_bf36131a57.jpg') #image read\n",
    "cv2.imshow(\"Prabesh\", img) #image show and prabesh is the window name\n",
    "cv2.waitKey(10000) #image frame wait time -ms and 0 pass keyboard any key press\n",
    "cv2.destroyAllWindows() #all windows close \n",
    "# cv2.destroyWindow() #only one window close"
   ]
  },
  {
   "cell_type": "markdown",
   "id": "7ef13b85-741d-410a-952f-2491f44f4be0",
   "metadata": {},
   "source": [
    "### Opening multiple windows and closeing only one in a time"
   ]
  },
  {
   "cell_type": "code",
   "execution_count": 3,
   "id": "06e7093c-502c-4c56-8975-342a30a52e79",
   "metadata": {},
   "outputs": [],
   "source": [
    "img = cv2.imread('Images/108899015_bf36131a57.jpg') #image read\n",
    "cv2.imshow(\"Prabesh\", img) #image show and prabesh is the window name\n",
    "cv2.imshow(\"Prabesh1\", img)\n",
    "cv2.waitKey(10000) #image frame wait time -ms and 0 pass keyboard any key press\n",
    "cv2.destroyAllWindows() #all windows close \n",
    "# cv2.destroyWindow(\"Prabesh1\") #only one window close"
   ]
  },
  {
   "cell_type": "markdown",
   "id": "3b60c438-e66b-4e63-8f21-6fa66a279cbe",
   "metadata": {},
   "source": [
    "# Show multiple Image and slide show"
   ]
  },
  {
   "cell_type": "code",
   "execution_count": 7,
   "id": "298a1807-f4dc-4d41-a21f-4a597a248ea6",
   "metadata": {},
   "outputs": [],
   "source": [
    "img = cv2.imread('Images/108899015_bf36131a57.jpg') #image read\n",
    "re_img = cv2.resize(img, (600,700)) # resizing the image\n",
    "cv2.imshow(\"Prabesh\", re_img) #image show and prabesh is the window name\n",
    "cv2.waitKey(10000) #image frame wait time -ms and 0 pass keyboard any key press\n",
    "cv2.destroyAllWindows() #all windows close "
   ]
  },
  {
   "cell_type": "markdown",
   "id": "209a98c4-3cc5-42df-8125-c8c6b9264468",
   "metadata": {},
   "source": [
    "For shwoing the images we have to set them in form of array like : "
   ]
  },
  {
   "cell_type": "code",
   "execution_count": 11,
   "id": "642b0459-1286-4cfe-9a9d-f7823b9f0269",
   "metadata": {},
   "outputs": [
    {
     "data": {
      "text/plain": [
       "array([[1, 2, 3, 4, 1, 2, 3, 4],\n",
       "       [1, 2, 3, 4, 1, 2, 3, 4]])"
      ]
     },
     "execution_count": 11,
     "metadata": {},
     "output_type": "execute_result"
    }
   ],
   "source": [
    "v = np.array([[1,2,3,4],[1,2,3,4]])\n",
    "np.hstack((v,v))"
   ]
  },
  {
   "cell_type": "code",
   "execution_count": 10,
   "id": "a4c60e6b-a4a2-47cd-b1ae-3b14ae5dd04f",
   "metadata": {
    "scrolled": true
   },
   "outputs": [
    {
     "data": {
      "text/plain": [
       "array([[[ 91,  32,  22],\n",
       "        [ 86,  40,  16],\n",
       "        [ 87,  39,  21],\n",
       "        ...,\n",
       "        [115,  63,  40],\n",
       "        [115,  62,  35],\n",
       "        [113,  61,  31]],\n",
       "\n",
       "       [[ 88,  38,  16],\n",
       "        [ 87,  37,  17],\n",
       "        [ 89,  34,  19],\n",
       "        ...,\n",
       "        [116,  60,  35],\n",
       "        [117,  63,  33],\n",
       "        [118,  64,  34]],\n",
       "\n",
       "       [[ 88,  37,  17],\n",
       "        [ 89,  36,  26],\n",
       "        [ 92,  39,  19],\n",
       "        ...,\n",
       "        [115,  60,  33],\n",
       "        [116,  62,  32],\n",
       "        [116,  65,  33]],\n",
       "\n",
       "       ...,\n",
       "\n",
       "       [[124,  89,  79],\n",
       "        [139,  97, 114],\n",
       "        [159, 133, 109],\n",
       "        ...,\n",
       "        [172, 153, 146],\n",
       "        [180, 161, 154],\n",
       "        [183, 166, 157]],\n",
       "\n",
       "       [[118,  92,  75],\n",
       "        [130, 103,  99],\n",
       "        [123,  96, 100],\n",
       "        ...,\n",
       "        [168, 146, 141],\n",
       "        [173, 153, 148],\n",
       "        [178, 158, 153]],\n",
       "\n",
       "       [[132,  99,  96],\n",
       "        [143, 119,  89],\n",
       "        [107,  80,  60],\n",
       "        ...,\n",
       "        [163, 143, 138],\n",
       "        [172, 152, 147],\n",
       "        [165, 146, 141]]], dtype=uint8)"
      ]
     },
     "execution_count": 10,
     "metadata": {},
     "output_type": "execute_result"
    }
   ],
   "source": [
    "img = cv2.imread('Images/108899015_bf36131a57.jpg')\n",
    "img"
   ]
  },
  {
   "cell_type": "code",
   "execution_count": 15,
   "id": "edee33df-a163-4bde-9655-c9ee3c78431d",
   "metadata": {},
   "outputs": [],
   "source": [
    "img = cv2.imread('Images/108899015_bf36131a57.jpg') \n",
    "re_img = cv2.resize(img, (300,400)) # resizing the image\n",
    "# h = np.hstack((re_img,re_img)) # this will show two images in one frame\n",
    "h = np.vstack((re_img,re_img)) # this for vertical\n",
    "cv2.imshow(\"Prabesh\", h) \n",
    "cv2.waitKey(0) \n",
    "cv2.destroyAllWindows()  "
   ]
  },
  {
   "cell_type": "code",
   "execution_count": 17,
   "id": "06038712-6fae-4d64-bbd0-253069e160ea",
   "metadata": {},
   "outputs": [],
   "source": [
    "img = cv2.imread('Images/108899015_bf36131a57.jpg') \n",
    "re_img = cv2.resize(img, (300,400)) # resizing the image\n",
    "h = np.hstack((re_img,re_img,re_img)) # this will show two images in one frame\n",
    "v = np.vstack((h,h)) \n",
    "cv2.imshow(\"Prabesh\", v) \n",
    "cv2.waitKey(0) \n",
    "cv2.destroyAllWindows()  "
   ]
  },
  {
   "cell_type": "markdown",
   "id": "b9cfdd66-3591-41bc-8e52-929c6f4a3f65",
   "metadata": {},
   "source": [
    "### Slide show"
   ]
  },
  {
   "cell_type": "code",
   "execution_count": 24,
   "id": "53adcbc5-9837-480c-8049-8b43a891f1fc",
   "metadata": {},
   "outputs": [
    {
     "data": {
      "text/plain": [
       "['101654506_8eb26cfb60.jpg',\n",
       " '108899015_bf36131a57.jpg',\n",
       " '44129946_9eeb385d77.jpg',\n",
       " '54501196_a9ac9d66f2.jpg',\n",
       " '54723805_bcf7af3f16.jpg',\n",
       " '58368365_03ed3e5bdf.jpg',\n",
       " 'buttler.jpg',\n",
       " 'img21.jpg']"
      ]
     },
     "execution_count": 24,
     "metadata": {},
     "output_type": "execute_result"
    }
   ],
   "source": [
    "list_name = os.listdir('Images')\n",
    "list_name"
   ]
  },
  {
   "cell_type": "code",
   "execution_count": 23,
   "id": "62f285da-9c47-4ffc-9334-b3663ec88c5d",
   "metadata": {},
   "outputs": [],
   "source": [
    "for name in list_name:\n",
    "    path = 'Images'\n",
    "    img_name = path + \"\\\\\" + name\n",
    "    img = cv2.imread(img_name)\n",
    "    img = cv2.resize(img,(300,400))\n",
    "    cv2.imshow(\"Opencv\",img)\n",
    "    cv2.waitKey(1000)\n",
    "cv2.destroyAllWindows() "
   ]
  },
  {
   "cell_type": "markdown",
   "id": "79546774-861f-40a7-b52c-2fd84065cb68",
   "metadata": {},
   "source": [
    "### More about imread() and imshow()"
   ]
  },
  {
   "cell_type": "code",
   "execution_count": 25,
   "id": "6d912acb-db5e-4702-9122-ed1d03c08344",
   "metadata": {},
   "outputs": [
    {
     "data": {
      "text/plain": [
       "(612, 408, 3)"
      ]
     },
     "execution_count": 25,
     "metadata": {},
     "output_type": "execute_result"
    }
   ],
   "source": [
    "img = cv2.imread('Images/buttler.jpg') # rgb (0-255, 0-255, 0-255)\n",
    "img.shape"
   ]
  },
  {
   "cell_type": "code",
   "execution_count": 31,
   "id": "301c613b-1d34-46c7-b121-d31c8b752510",
   "metadata": {},
   "outputs": [
    {
     "name": "stdout",
     "output_type": "stream",
     "text": [
      "(612, 408)\n"
     ]
    }
   ],
   "source": [
    "img = cv2.imread('Images/buttler.jpg',0)  #o for gray scale instead we can use cv2.IMREAD_GRAYSCALE,cv2.IMREAD_UNCHANGED,cv2.IMREAD_COLOR \n",
    "# 0 is the flag which is used to set the colors \n",
    "print(img.shape)\n",
    "img= cv2.resize(img,(300,400))\n",
    "cv2.imshow(\"Buttler\", img)\n",
    "cv2.waitKey(0)\n",
    "cv2.destroyAllWindows()"
   ]
  },
  {
   "cell_type": "markdown",
   "id": "d93ad064-813c-4cd3-8968-88a8acaf8e6e",
   "metadata": {},
   "source": [
    "# Text over a image"
   ]
  },
  {
   "cell_type": "code",
   "execution_count": 24,
   "id": "b65c657c-1d21-49eb-ba20-e5dfee8ecaa1",
   "metadata": {},
   "outputs": [],
   "source": [
    "img_get = cv2.imread('Images/buttler.jpg')\n",
    "img_get = cv2.resize(img_get,(300,400))\n",
    "\n",
    "txt = cv2.putText(img = img_get,\n",
    "        text = \"Jos Buttler\",\n",
    "        org = (75,390), #its the co-ordinate to where to display text from left top corner\n",
    "        fontFace = cv2.FONT_HERSHEY_DUPLEX, #font type\n",
    "        fontScale = 1,\n",
    "        color = (255,255,0),\n",
    "        thickness = 2,\n",
    "        lineType = cv2.LINE_AA,\n",
    "        bottomLeftOrigin = False,# for mirroring the image\n",
    ")\n",
    "cv2.imshow(\"Buttler\", img_get)\n",
    "cv2.waitKey(0)\n",
    "cv2.destroyAllWindows()"
   ]
  },
  {
   "cell_type": "markdown",
   "id": "f95ea5c8-589a-42fc-86a8-1e0e48978a36",
   "metadata": {},
   "source": [
    "# Draw line and Rectangle on Image"
   ]
  },
  {
   "cell_type": "markdown",
   "id": "9fe9d79d-e43a-442a-a49b-f986ef868ad6",
   "metadata": {},
   "source": [
    "### Creating line "
   ]
  },
  {
   "cell_type": "code",
   "execution_count": 61,
   "id": "c2f93d88-699b-44f7-9b18-17c6b217dec4",
   "metadata": {},
   "outputs": [],
   "source": [
    "old_img = cv2.imread('Images/buttler.jpg')\n",
    "new_img = cv2.line(img = old_img,\n",
    "                   pt1=(180,120), #starting point of line and co-ordinate is from top left corner\n",
    "                   pt2 = (212,114),\n",
    "                   color=(0,255,0),\n",
    "                   thickness=1,\n",
    "                   lineType =16, #watch out lineout in documentation\n",
    "                   )\n",
    "cv2.imshow(\"Buttler\", old_img)\n",
    "cv2.waitKey(0)\n",
    "cv2.destroyAllWindows()"
   ]
  },
  {
   "cell_type": "markdown",
   "id": "7790bc2e-8250-43c6-8548-52facea3110f",
   "metadata": {},
   "source": [
    "### Creating the rectangle"
   ]
  },
  {
   "cell_type": "code",
   "execution_count": 62,
   "id": "b7868036-1209-44f6-b5ec-ea79aa342ac9",
   "metadata": {},
   "outputs": [],
   "source": [
    "old_img = cv2.imread('Images/buttler.jpg')\n",
    "new_img = cv2.rectangle(img = old_img,\n",
    "                   pt1=(175,98), #starting point of line and co-ordinate is from top left corner\n",
    "                   pt2 = (227,175), # cordinate of bottom right corner\n",
    "                   color=(0,255,0),\n",
    "                   thickness=1,\n",
    "                   lineType =16, #watch out lineout in documentation\n",
    "                   )\n",
    "cv2.imshow(\"Buttler\", old_img)\n",
    "cv2.waitKey(0)\n",
    "cv2.destroyAllWindows()"
   ]
  },
  {
   "cell_type": "markdown",
   "id": "c146aced-e2ec-4df7-be4a-da546c831432",
   "metadata": {},
   "source": [
    "### Rectangle with name"
   ]
  },
  {
   "cell_type": "code",
   "execution_count": 86,
   "id": "c2a0c18e-1d5b-4192-9a8e-b256f08a995b",
   "metadata": {},
   "outputs": [],
   "source": [
    "old_img = cv2.imread('Images/buttler.jpg')\n",
    "txt = cv2.putText(img = old_img,\n",
    "        text = \"Jos Buttler\",\n",
    "        org = (157,93), #its the co-ordinate to where to display text from left top corner\n",
    "        fontFace = cv2.FONT_HERSHEY_DUPLEX, #font type\n",
    "        fontScale = 0.5,\n",
    "        color=(255,0,0),\n",
    "        thickness = 1,\n",
    "        lineType = 16,\n",
    "        bottomLeftOrigin = False,# for mirroring the image\n",
    "                 )\n",
    "new_img = cv2.rectangle(img = old_img,\n",
    "                   pt1=(173,98), #starting point of line and co-ordinate is from top left corner\n",
    "                   pt2 = (227,175), # cordinate of bottom right corner\n",
    "                   color=(0,255,0),\n",
    "                   thickness=1,\n",
    "                   lineType =16, #watch out lineout in documentation\n",
    "                   )\n",
    "cv2.imshow(\"Buttler\", old_img)\n",
    "cv2.waitKey(0)\n",
    "cv2.destroyAllWindows()"
   ]
  },
  {
   "cell_type": "markdown",
   "id": "0362b493-0da2-49e3-b1a6-04dfbc3f7c39",
   "metadata": {},
   "source": [
    "# Draw circle and ellipse on image"
   ]
  },
  {
   "cell_type": "code",
   "execution_count": 104,
   "id": "89dcedc1-8544-47aa-b819-542f5a188ab3",
   "metadata": {},
   "outputs": [],
   "source": [
    "old_img = cv2.imread('Images/buttler.jpg')\n",
    "new_img = cv2.circle(img = old_img,\n",
    "                   center=(195,138),\n",
    "                     radius=40,\n",
    "                   color=(0,255,0),\n",
    "                   thickness=3, # -1to fill the image\n",
    "                   lineType =16, #watch out lineout in documentation\n",
    "                   )\n",
    "cv2.imshow(\"Buttler\", new_img)\n",
    "cv2.waitKey(0)\n",
    "cv2.destroyAllWindows()"
   ]
  },
  {
   "cell_type": "code",
   "execution_count": 120,
   "id": "a4d05df1-b799-446a-9c4f-67821d7d4974",
   "metadata": {},
   "outputs": [],
   "source": [
    "old_img = cv2.imread('Images/buttler.jpg')\n",
    "new_img = cv2.ellipse(img = old_img,\n",
    "                   center=(200,140),\n",
    "                     axes=(20,30),\n",
    "                      angle = 3,\n",
    "                      startAngle=0,\n",
    "                      endAngle = 360,\n",
    "                   color=(0,255,0),\n",
    "                   thickness=2, # -1to fill the image\n",
    "                   lineType =16, #watch out lineout in documentation\n",
    "                   )\n",
    "cv2.imshow(\"Buttler\", new_img)\n",
    "cv2.waitKey(0)\n",
    "cv2.destroyAllWindows()"
   ]
  },
  {
   "cell_type": "code",
   "execution_count": 136,
   "id": "19a993e4-9157-4e7b-aa2d-4ad37a5207ff",
   "metadata": {},
   "outputs": [],
   "source": [
    "old_img = cv2.imread('Images/buttler.jpg')\n",
    "txt = cv2.putText(img = old_img,\n",
    "        text = \"Jos Buttler\",\n",
    "        org = (210,140), #its the co-ordinate to where to display text from left top corner\n",
    "        fontFace = 2, #font type\n",
    "        fontScale = 0.5,\n",
    "        color=(0,255,0),\n",
    "        thickness = 1,\n",
    "        lineType = 16,\n",
    "        bottomLeftOrigin = False,# for mirroring the image\n",
    "                 )\n",
    "new_img = cv2.ellipse(img = old_img,\n",
    "                   center=(200,140),\n",
    "                     axes=(20,30),\n",
    "                      angle = 3,\n",
    "                      startAngle=0,\n",
    "                      endAngle = 329,\n",
    "                   color=(0,255,0),\n",
    "                   thickness=2, # -1to fill the image\n",
    "                   lineType =16, #watch out lineout in documentation\n",
    "                   )\n",
    "cv2.imshow(\"Buttler\", new_img)\n",
    "cv2.waitKey(0)\n",
    "cv2.destroyAllWindows()"
   ]
  },
  {
   "cell_type": "markdown",
   "id": "b02767e2-5ae2-45e2-880f-96fbe44e184c",
   "metadata": {},
   "source": [
    "## draw polygon"
   ]
  },
  {
   "cell_type": "code",
   "execution_count": 139,
   "id": "f254dbf7-2c54-4aac-a01f-a0a53f663161",
   "metadata": {},
   "outputs": [],
   "source": [
    "old_img = cv2.imread('Images/buttler.jpg')\n",
    "new_img = cv2.polylines(img=old_img,\n",
    "                        pts=[np.array([[100,98],[120,45],[200,98],[200,151],[100,151]])],\n",
    "                        isClosed=True,\n",
    "                        color=(0,255,0),\n",
    "                        thickness=2,\n",
    "                        lineType=16)\n",
    "cv2.imshow(\"Buttler\", new_img)\n",
    "cv2.waitKey(0)\n",
    "cv2.destroyAllWindows()"
   ]
  },
  {
   "cell_type": "code",
   "execution_count": null,
   "id": "5a439a3b-f672-49a9-bbe2-889fc909d986",
   "metadata": {},
   "outputs": [],
   "source": []
  }
 ],
 "metadata": {
  "kernelspec": {
   "display_name": "Python 3 (ipykernel)",
   "language": "python",
   "name": "python3"
  },
  "language_info": {
   "codemirror_mode": {
    "name": "ipython",
    "version": 3
   },
   "file_extension": ".py",
   "mimetype": "text/x-python",
   "name": "python",
   "nbconvert_exporter": "python",
   "pygments_lexer": "ipython3",
   "version": "3.11.3"
  }
 },
 "nbformat": 4,
 "nbformat_minor": 5
}
