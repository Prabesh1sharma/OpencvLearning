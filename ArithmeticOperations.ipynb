{
 "cells": [
  {
   "cell_type": "markdown",
   "id": "005ecc3a-4c36-4bbe-a546-493c62c0c46d",
   "metadata": {},
   "source": [
    "# Arithmetic Operations on Images Using Opencv"
   ]
  },
  {
   "cell_type": "code",
   "execution_count": 1,
   "id": "fd8bd61c-5585-4b42-bf97-a6fd2452ba05",
   "metadata": {},
   "outputs": [],
   "source": [
    "import cv2"
   ]
  },
  {
   "cell_type": "code",
   "execution_count": null,
   "id": "d5a040cb-9a6e-4c98-98d7-5368971b91a7",
   "metadata": {},
   "outputs": [],
   "source": []
  }
 ],
 "metadata": {
  "kernelspec": {
   "display_name": "Python 3 (ipykernel)",
   "language": "python",
   "name": "python3"
  },
  "language_info": {
   "codemirror_mode": {
    "name": "ipython",
    "version": 3
   },
   "file_extension": ".py",
   "mimetype": "text/x-python",
   "name": "python",
   "nbconvert_exporter": "python",
   "pygments_lexer": "ipython3",
   "version": "3.11.3"
  }
 },
 "nbformat": 4,
 "nbformat_minor": 5
}
