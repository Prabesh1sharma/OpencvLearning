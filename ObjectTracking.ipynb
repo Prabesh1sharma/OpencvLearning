{
 "cells": [
  {
   "cell_type": "code",
   "execution_count": 2,
   "id": "0a8a6413-4ac2-45ed-b05b-f413c10a7101",
   "metadata": {},
   "outputs": [],
   "source": [
    "import cv2 \n",
    "import numpy as np "
   ]
  },
  {
   "cell_type": "markdown",
   "id": "c94785d8-8462-4e16-a874-f52d7e574ac2",
   "metadata": {},
   "source": [
    "# Object Tracking and Detection"
   ]
  },
  {
   "cell_type": "code",
   "execution_count": 26,
   "id": "2c5b13d3-0fe5-4977-a174-838b24414cd8",
   "metadata": {},
   "outputs": [],
   "source": [
    "cap = cv2.VideoCapture('Images/mixkit-man-and-woman-jogging-together-on-the-street-40881-hd-ready.mp4')\n",
    "\n",
    "n,f = cap.read()\n",
    "# Define the initial tracking window\n",
    "\n",
    "x,y,w,h = 290, 55, 230, 821 #roi\n",
    "t = (x,y,w,h)\n",
    "roi = f[y:y+h,x:x+w]\n",
    "\n",
    "# Set up the ROI for tracking\n",
    "\n",
    "hsv_roi = cv2.cvtColor(roi,cv2.COLOR_BGR2HSV)\n",
    "mask = cv2.inRange(hsv_roi,np.array((0.,60.,32.)),np.array((180.,255.,255.)))\n",
    "roi_hist = cv2.calcHist([hsv_roi],[0],mask,[180],[0,180])\n",
    "cv2.normalize(roi_hist,roi_hist,0,255,cv2.NORM_MINMAX)\n",
    "\n",
    "# Setup the termination criteria\n",
    "\n",
    "tr = (cv2.TERM_CRITERIA_EPS | cv2.TERM_CRITERIA_COUNT, 10, 1)\n",
    "\n",
    "\n",
    "while cap.isOpened():\n",
    "    r,f = cap.read() \n",
    "    if r == True:\n",
    "        # Convert the frame to HSV\n",
    "\n",
    "        hsv_f = cv2.cvtColor(f,cv2.COLOR_BGR2HSV)\n",
    "        #Backprojection\n",
    "        d = cv2.calcBackProject([hsv_f],[0],roi_hist,[0,180],1)\n",
    "        # Apply CamShift to get the new location\n",
    "\n",
    "        r,tp = cv2.CamShift(d,t,tr)\n",
    "\n",
    "        # Draw the tracking window on the frame\n",
    "        x,y,w,h = tp\n",
    "        final = cv2.rectangle(f,(x,y),(x+w,y+h),(0,0,255),4)\n",
    "        \n",
    "        \n",
    "        cv2.imshow(\"opencv\",final)\n",
    "        \n",
    "        if cv2.waitKey(25) & 0xff == ord('p'): \n",
    "            break\n",
    "    else:\n",
    "        break\n",
    "\n",
    "cap.release()\n",
    "cv2.destroyAllWindows()"
   ]
  },
  {
   "cell_type": "markdown",
   "id": "615efc3c-1d7e-4dc2-80b1-daa06e6c633a",
   "metadata": {},
   "source": [
    "# Corner Detection Using Detection Method (Harris Corner Detection)"
   ]
  },
  {
   "cell_type": "markdown",
   "id": "84e771d1-1c39-41d3-8cd4-9bf5a9746e5f",
   "metadata": {},
   "source": [
    "\n",
    "- A corner can be interpreted as the junction of two edges(where an edge is a sudden changes in image brightness)\n",
    "- Harris Corner Detection algorithm wa developed to identify the internal corners of an image\n",
    "- The corners of an image are basically identified as the resgions where there area variation in large intensity of the gradient in all possible dimensions and directions"
   ]
  },
  {
   "cell_type": "code",
   "execution_count": 33,
   "id": "6c12c7be-8cfb-48f7-a53a-999f64cc5aab",
   "metadata": {},
   "outputs": [],
   "source": [
    "import cv2\n",
    "import numpy as np\n",
    "\n",
    "# Read the image\n",
    "img = cv2.imread(\"Images/shapessss.jpg\")\n",
    "\n",
    "\n",
    "# Convert the image to grayscale\n",
    "gr = cv2.cvtColor(img, cv2.COLOR_BGR2GRAY)\n",
    "gr = np.float32(gr)\n",
    "\n",
    "# Detect corners using the Harris Corner detection method\n",
    "res = cv2.cornerHarris(gr, 2, 3, 0.04)\n",
    "\n",
    "# Dilate corner image to enhance corner points\n",
    "res = cv2.dilate(res, None)\n",
    "\n",
    "# Threshold for an optimal value, it may vary depending on the image.\n",
    "threshold = 0.01 * res.max()\n",
    "\n",
    "# Ensure the mask is the same shape as the image\n",
    "\n",
    "img[res > threshold] = [0, 0, 255]\n",
    "\n",
    "\n",
    "# Display the result\n",
    "cv2.imshow(\"opencv\", img)\n",
    "cv2.waitKey(0)\n",
    "cv2.destroyAllWindows()\n"
   ]
  },
  {
   "cell_type": "code",
   "execution_count": 36,
   "id": "534f6c38-b9fa-429f-8996-46ca9b7126c7",
   "metadata": {},
   "outputs": [],
   "source": [
    "import cv2\n",
    "import numpy as np\n",
    "\n",
    "# Read the image\n",
    "img = cv2.imread(\"Images/buttler.jpg\")\n",
    "\n",
    "\n",
    "# Convert the image to grayscale\n",
    "gr = cv2.cvtColor(img, cv2.COLOR_BGR2GRAY)\n",
    "gr = np.float32(gr)\n",
    "\n",
    "# Detect corners using the Harris Corner detection method\n",
    "res = cv2.cornerHarris(gr, 2, 3, 0.04)\n",
    "\n",
    "# Dilate corner image to enhance corner points\n",
    "res = cv2.dilate(res, None)\n",
    "\n",
    "# Threshold for an optimal value, it may vary depending on the image.\n",
    "threshold = 0.01 * res.max()\n",
    "\n",
    "# Ensure the mask is the same shape as the image\n",
    "\n",
    "img[res > threshold] = [0, 0, 255]\n",
    "\n",
    "\n",
    "# Display the result\n",
    "cv2.imshow(\"opencv\", img)\n",
    "cv2.waitKey(0)\n",
    "cv2.destroyAllWindows()\n"
   ]
  },
  {
   "cell_type": "code",
   "execution_count": null,
   "id": "ac69d3e1-8583-4f83-91b8-d31b812eb372",
   "metadata": {},
   "outputs": [],
   "source": []
  }
 ],
 "metadata": {
  "kernelspec": {
   "display_name": "Python 3 (ipykernel)",
   "language": "python",
   "name": "python3"
  },
  "language_info": {
   "codemirror_mode": {
    "name": "ipython",
    "version": 3
   },
   "file_extension": ".py",
   "mimetype": "text/x-python",
   "name": "python",
   "nbconvert_exporter": "python",
   "pygments_lexer": "ipython3",
   "version": "3.11.3"
  }
 },
 "nbformat": 4,
 "nbformat_minor": 5
}
