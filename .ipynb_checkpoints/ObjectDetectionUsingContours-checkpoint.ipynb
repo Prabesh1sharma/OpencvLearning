{
 "cells": [
  {
   "cell_type": "code",
   "execution_count": 1,
   "id": "2a275de6-65e5-42e1-8e9b-ba7821d0f681",
   "metadata": {},
   "outputs": [],
   "source": [
    "import cv2\n",
    "import numpy as np \n"
   ]
  },
  {
   "cell_type": "markdown",
   "id": "d33bf734-6ca7-4236-9551-362fcc25bcd4",
   "metadata": {},
   "source": [
    "# Object Detection Using Contours"
   ]
  },
  {
   "cell_type": "code",
   "execution_count": 14,
   "id": "9b8f134d-8114-4f0c-8fa9-df0232312d3a",
   "metadata": {},
   "outputs": [],
   "source": [
    "def nothing(x):\n",
    "    pass\n",
    "\n",
    "cv2.namedWindow('hancy')\n",
    "cv2.createTrackbar(\"th\",\"hancy\",0,255,nothing)\n",
    "\n",
    "cv2.createTrackbar(\"lb\",\"hancy\",0,255,nothing)\n",
    "cv2.createTrackbar(\"lg\",\"hancy\",0,255,nothing)\n",
    "cv2.createTrackbar(\"lr\",\"hancy\",0,255,nothing)\n",
    "\n",
    "cv2.createTrackbar(\"hb\",\"hancy\",255,255,nothing)\n",
    "cv2.createTrackbar(\"hg\",\"hancy\",255,255,nothing)\n",
    "cv2.createTrackbar(\"hr\",\"hancy\",255,255,nothing)\n",
    "\n",
    "cap = cv2.VideoCapture(0)\n",
    "while cap.isOpened():\n",
    "    r,frame = cap.read()\n",
    "    if r == True:\n",
    "        frame = cv2.flip(frame,1)\n",
    "        frame = cv2.resize(frame,(400,400))\n",
    "        hsv = cv2.cvtColor(frame,cv2.COLOR_BGR2HSV)\n",
    "        thr = cv2.getTrackbarPos('th','hancy')\n",
    "        Lb = cv2.getTrackbarPos(\"lb\",\"hancy\")\n",
    "        Lg = cv2.getTrackbarPos(\"lg\",\"hancy\")\n",
    "        Lr = cv2.getTrackbarPos(\"lr\",\"hancy\")\n",
    "    \n",
    "        Ub = cv2.getTrackbarPos(\"hb\",\"hancy\")\n",
    "        Ug = cv2.getTrackbarPos(\"hg\",\"hancy\")\n",
    "        Ur = cv2.getTrackbarPos(\"hr\",\"hancy\")\n",
    "\n",
    "        lower = np.array([Lb,Lg,Lr])\n",
    "        upper = np.array([Ub,Ug,Ur])\n",
    "        masks = cv2.inRange(hsv,lower,upper)\n",
    "        res = cv2.bitwise_and(frame,frame,mask=masks)\n",
    "        fr = cv2.bitwise_not(res)\n",
    "\n",
    "        _,thi = cv2.threshold(masks,thr,255,cv2.THRESH_BINARY)\n",
    "        cnt,hr = cv2.findContours(thi, cv2.RETR_TREE,cv2.CHAIN_APPROX_SIMPLE)\n",
    "\n",
    "        cv2.drawContours(frame,cnt,-1,(255,0,0),2)\n",
    "        cv2.imshow('thr',thi)\n",
    "        cv2.imshow(\"res\",res)\n",
    "        cv2.imshow(\"mask\",masks)\n",
    "        cv2.imshow(\"cv\",frame)\n",
    "        if cv2.waitKey(25) & 0xff == ord(\"p\"):\n",
    "                break\n",
    "    else:\n",
    "        break\n",
    "\n",
    "cap.release()  \n",
    "cv2.destroyAllWindows()"
   ]
  },
  {
   "cell_type": "code",
   "execution_count": null,
   "id": "846bdf78-914f-4e9c-9eae-d1cb5a57976f",
   "metadata": {},
   "outputs": [],
   "source": []
  }
 ],
 "metadata": {
  "kernelspec": {
   "display_name": "Python 3 (ipykernel)",
   "language": "python",
   "name": "python3"
  },
  "language_info": {
   "codemirror_mode": {
    "name": "ipython",
    "version": 3
   },
   "file_extension": ".py",
   "mimetype": "text/x-python",
   "name": "python",
   "nbconvert_exporter": "python",
   "pygments_lexer": "ipython3",
   "version": "3.11.3"
  }
 },
 "nbformat": 4,
 "nbformat_minor": 5
}
