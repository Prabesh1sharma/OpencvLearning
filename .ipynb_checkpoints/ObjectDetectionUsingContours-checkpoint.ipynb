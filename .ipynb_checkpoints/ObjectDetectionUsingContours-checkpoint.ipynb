{
 "cells": [
  {
   "cell_type": "code",
   "execution_count": 1,
   "id": "2a275de6-65e5-42e1-8e9b-ba7821d0f681",
   "metadata": {},
   "outputs": [],
   "source": [
    "import cv2\n",
    "import numpy as np \n"
   ]
  },
  {
   "cell_type": "markdown",
   "id": "d33bf734-6ca7-4236-9551-362fcc25bcd4",
   "metadata": {},
   "source": [
    "# Object Detection Using Contours"
   ]
  },
  {
   "cell_type": "code",
   "execution_count": 9,
   "id": "9b8f134d-8114-4f0c-8fa9-df0232312d3a",
   "metadata": {},
   "outputs": [],
   "source": [
    "def nothing(x):\n",
    "    pass\n",
    "\n",
    "cv2.namedWindow('hancy')\n",
    "cv2.createTrackbar(\"th\",\"hancy\",0,255,nothing)\n",
    "\n",
    "cv2.createTrackbar(\"lb\",\"hancy\",0,255,nothing)\n",
    "cv2.createTrackbar(\"lg\",\"hancy\",0,255,nothing)\n",
    "cv2.createTrackbar(\"lr\",\"hancy\",0,255,nothing)\n",
    "\n",
    "cv2.createTrackbar(\"hb\",\"hancy\",255,255,nothing)\n",
    "cv2.createTrackbar(\"hg\",\"hancy\",255,255,nothing)\n",
    "cv2.createTrackbar(\"hr\",\"hancy\",255,255,nothing)\n",
    "\n",
    "cap = cv2.VideoCapture(0)\n",
    "while cap.isOpened():\n",
    "    r,frame = cap.read()\n",
    "    if r == True:\n",
    "        frame = cv2.flip(frame,1)\n",
    "        frame = cv2.resize(frame,(400,400))\n",
    "        hsv = cv2.cvtColor(frame,cv2.COLOR_BGR2HSV)\n",
    "        thr = cv2.getTrackbarPos('th','hancy')\n",
    "        Lb = cv2.getTrackbarPos(\"lb\",\"hancy\")\n",
    "        Lg = cv2.getTrackbarPos(\"lg\",\"hancy\")\n",
    "        Lr = cv2.getTrackbarPos(\"lr\",\"hancy\")\n",
    "    \n",
    "        Ub = cv2.getTrackbarPos(\"hb\",\"hancy\")\n",
    "        Ug = cv2.getTrackbarPos(\"hg\",\"hancy\")\n",
    "        Ur = cv2.getTrackbarPos(\"hr\",\"hancy\")\n",
    "\n",
    "        lower = np.array([Lb,Lg,Lr])\n",
    "        upper = np.array([Ub,Ug,Ur])\n",
    "        masks = cv2.inRange(hsv,lower,upper)\n",
    "        res = cv2.bitwise_and(frame,frame,mask=masks)\n",
    "        fr = cv2.bitwise_not(res)\n",
    "\n",
    "        _,thi = cv2.threshold(masks,thr,255,cv2.THRESH_BINARY)\n",
    "        cnt,hr = cv2.findContours(thi, cv2.RETR_TREE,cv2.CHAIN_APPROX_SIMPLE)\n",
    "\n",
    "        cv2.drawContours(frame,cnt,-1,(255,0,0),2)\n",
    "        cv2.imshow('thr',thi)\n",
    "        cv2.imshow(\"res\",res)\n",
    "        cv2.imshow(\"mask\",masks)\n",
    "        cv2.imshow(\"cv\",frame)\n",
    "        if cv2.waitKey(25) & 0xff == ord(\"p\"):\n",
    "                break\n",
    "    else:\n",
    "        break\n",
    "\n",
    "cap.release()  \n",
    "cv2.destroyAllWindows()"
   ]
  },
  {
   "cell_type": "markdown",
   "id": "647dc61d-769f-4b55-b3a3-d794a522ab9d",
   "metadata": {},
   "source": [
    "# Image Background Using Histogram"
   ]
  },
  {
   "cell_type": "code",
   "execution_count": 7,
   "id": "eac61929-2ac2-41fe-b570-70adcf027daf",
   "metadata": {},
   "outputs": [],
   "source": [
    "img = cv2.imread(\"Images/thor.jpg\")\n",
    "img = cv2.resize(img,(600,500))\n",
    "hsv = cv2.cvtColor(img,cv2.COLOR_BGR2HSV)\n",
    "\n",
    "img1 = cv2.imread(\"Images/cropthor.jpg\")\n",
    "hsv1 = cv2.cvtColor(img1,cv2.COLOR_BGR2HSV)\n",
    "\n",
    "hist = cv2.calcHist([hsv1],[0,1],None,[180,256],[0,180,0,256])\n",
    "mask = cv2.calcBackProject([hsv],[0,1],hist,[0,180,0,256],1)\n",
    "\n",
    "# res = cv2.bitwise_or(img,img,mask = mask)\n",
    "# this above commented one remove the thor but we want to remove background so let's make more filter\n",
    "ker = cv2.getStructuringElement(cv2.MORPH_ELLIPSE,(5,5))\n",
    "mask = cv2.filter2D(mask,-1,ker)\n",
    "_,thr = cv2.threshold(mask,230,255,cv2.THRESH_BINARY)\n",
    "mask = cv2.merge((mask,mask,mask))\n",
    "\n",
    "res = cv2.bitwise_or(img,mask)\n",
    "\n",
    "cv2.imshow('res',res)\n",
    "cv2.imshow(\"opencv\",img)\n",
    "cv2.waitKey()\n",
    "cv2.destroyAllWindows()"
   ]
  },
  {
   "cell_type": "markdown",
   "id": "d470b26e-bc14-4de3-8e96-b4d5cc5fa931",
   "metadata": {},
   "source": [
    "# Hough Transformation Lines"
   ]
  },
  {
   "cell_type": "code",
   "execution_count": 6,
   "id": "94d18c27-1967-4d31-a431-872f4af741a1",
   "metadata": {},
   "outputs": [],
   "source": [
    "img = cv2.imread(\"Images/sudoku.png\")\n",
    "gry = cv2.cvtColor(img,cv2.COLOR_BGR2GRAY)\n",
    "\n",
    "edg = cv2.Canny(gry,20,250)\n",
    "lines = cv2.HoughLines(edg,1,np.pi/180,200)\n",
    "\n",
    "for r,th in lines[0]:\n",
    "    a = np.cos(th)\n",
    "    b = np.sin(th)\n",
    "\n",
    "    x0 = a*r\n",
    "    y0 = b*r \n",
    "    \n",
    "    x1 = int(x0 + 1000*(-b))\n",
    "    y1 = int(y0 + 1000*(a))\n",
    "    x2 = int(x0 - 1000*(-b))\n",
    "    y2 = int(y0 - 1000*(a))\n",
    "\n",
    "    cv2.line(img,(x1,y1),(x2,y2),(0,255,0),2)\n",
    "    \n",
    "cv2.imshow(\"opencv\",img)\n",
    "cv2.waitKey(0)\n",
    "cv2.destroyAllWindows()"
   ]
  },
  {
   "cell_type": "code",
   "execution_count": 11,
   "id": "f4518257-9241-4dc4-a599-d50b8ed86588",
   "metadata": {},
   "outputs": [],
   "source": [
    "img = cv2.imread(\"Images/sudoku.png\")\n",
    "gry = cv2.cvtColor(img,cv2.COLOR_BGR2GRAY)\n",
    "\n",
    "edg = cv2.Canny(gry,20,250)\n",
    "\n",
    "l = cv2.HoughLinesP(edg,1,np.pi/180,200,minLineLength=180, maxLineGap = 100)\n",
    "\n",
    "for i in l:\n",
    "    x1,y1,x2,y2 = i[0]\n",
    "    cv2.line(img,(x1,y1),(x2,y2),(0,255,0),2)\n",
    "\n",
    "cv2.imshow(\"opencv\",img)\n",
    "cv2.waitKey(0)\n",
    "cv2.destroyAllWindows()"
   ]
  },
  {
   "cell_type": "markdown",
   "id": "c4c9424d-ea95-4375-abc9-25b610a3840a",
   "metadata": {},
   "source": [
    "# Template Matching Using Opencv"
   ]
  },
  {
   "cell_type": "code",
   "execution_count": 48,
   "id": "6434d68f-7e22-401f-8188-79d4ce3b8871",
   "metadata": {},
   "outputs": [],
   "source": [
    "img = cv2.imread(\"Images/heros1.jpg\")\n",
    "gry = cv2.cvtColor(img,cv2.COLOR_BGR2GRAY)\n",
    "\n",
    "temp = cv2.imread(\"Images/heroine.jpg\")\n",
    "gry1 = cv2.cvtColor(temp,cv2.COLOR_BGR2GRAY)\n",
    "\n",
    "w,h = gry1.shape[::-1]\n",
    "res = cv2.matchTemplate(gry,gry1,cv2.TM_CCOEFF_NORMED)\n",
    "thrr = 0.94\n",
    "\n",
    "l = np.where(res>=thrr)\n",
    "for i in zip(*l[::-1]):\n",
    "    cv2.rectangle(img,i,(i[0]+w,i[1]+h),(0,255,0),2)\n",
    "\n",
    "img = cv2.resize(img,(400,300))\n",
    "\n",
    "# cv2.imshow(\"res\",res)\n",
    "cv2.imshow(\"opencv\",img)\n",
    "cv2.imshow(\"opencv1\",temp)\n",
    "cv2.waitKey(0)\n",
    "cv2.destroyAllWindows()"
   ]
  },
  {
   "cell_type": "code",
   "execution_count": 14,
   "id": "6ce6b93e-fa50-4313-a364-8dc9c205c830",
   "metadata": {},
   "outputs": [
    {
     "data": {
      "text/plain": [
       "(94, 96)"
      ]
     },
     "execution_count": 14,
     "metadata": {},
     "output_type": "execute_result"
    }
   ],
   "source": [
    "#(96, 94)\n",
    "w,h = gry1.shape[::-1]\n",
    "w,h"
   ]
  },
  {
   "cell_type": "markdown",
   "id": "6b9a56fe-3204-4e43-a6da-e4c9ee885d66",
   "metadata": {},
   "source": [
    "# Hough Circle detection "
   ]
  },
  {
   "cell_type": "code",
   "execution_count": 78,
   "id": "fe3d6201-b4a0-4d54-9435-da1b0b53cd8d",
   "metadata": {},
   "outputs": [],
   "source": [
    "img = cv2.imread(\"Images/balls.webp\")\n",
    "img = cv2.resize(img,(600,600))\n",
    "\n",
    "gr = cv2.cvtColor(img,cv2.COLOR_BGR2GRAY)\n",
    "gr = cv2.medianBlur(gr,7)\n",
    "\n",
    "c = cv2.HoughCircles(gr,cv2.HOUGH_GRADIENT,1,20,param1=100,param2=50,minRadius=0,maxRadius=0)\n",
    "data = np.uint16(np.around(c))\n",
    "\n",
    "for (x,y,r) in data[0,:]:\n",
    "    cv2.circle(img,(x,y),r,(0,0,255),4)\n",
    "\n",
    "cv2.imshow(\"opencv1\",img)\n",
    "cv2.waitKey(0)\n",
    "cv2.destroyAllWindows()"
   ]
  },
  {
   "cell_type": "markdown",
   "id": "e00b5597-cf7d-4f66-85a2-1311494f36fa",
   "metadata": {},
   "source": [
    "# Grabcut Algorithm for Background change"
   ]
  },
  {
   "cell_type": "code",
   "execution_count": 81,
   "id": "9165909c-bd06-4e14-8e52-c014c9d33f6d",
   "metadata": {},
   "outputs": [],
   "source": [
    "img = cv2.imread(\"Images/carbmw.jpg\")\n",
    "\n",
    "mask = np.zeros(img.shape[:2],np.uint8)\n",
    "\n",
    "bgmask = np.zeros((1,65),np.float64)*255\n",
    "fgmask = np.zeros((1,65),np.float64)*255\n",
    "\n",
    "#x1,y1,x2,y2\n",
    "r = [184,111,538,349]\n",
    "cv2.grabCut(img,mask,r,bgmask,fgmask,10,cv2.GC_INIT_WITH_RECT)\n",
    "\n",
    "mask2 = np.where((mask ==2)|(mask == 0),0,1).astype(\"uint8\")\n",
    "\n",
    "img = img*mask2[:,:,np.newaxis]\n",
    "\n",
    "cv2.imshow(\"open\",img)\n",
    "cv2.waitKey(0)\n",
    "cv2.destroyAllWindows()"
   ]
  },
  {
   "cell_type": "markdown",
   "id": "66d4a0cb-3fd4-4717-a505-12493056406c",
   "metadata": {},
   "source": [
    "# Video Background Removal using Algorithm"
   ]
  },
  {
   "cell_type": "code",
   "execution_count": 90,
   "id": "33494e42-6162-4287-83c1-9b276df668a9",
   "metadata": {},
   "outputs": [],
   "source": [
    "cap = cv2.VideoCapture('Images/oceanhideko.mp4')\n",
    "\n",
    "algo1 = cv2.createBackgroundSubtractorKNN(detectShadows=True)\n",
    "algo2 = cv2.createBackgroundSubtractorMOG2(detectShadows=True)\n",
    "\n",
    "\n",
    "while cap.isOpened():\n",
    "    r,frame = cap.read() \n",
    "    if r == True:\n",
    "        frame = cv2.resize(frame,(600,400))\n",
    "        r1 = algo1.apply(frame)\n",
    "        r2 = algo2.apply(frame)\n",
    "        cv2.imshow(\"algo1\",r1)\n",
    "        cv2.imshow(\"algo2\",r2)\n",
    "        cv2.imshow(\"algokeinai\",frame)\n",
    "        \n",
    "        if cv2.waitKey(40) & 0xff == ord('p'): \n",
    "            break\n",
    "    else:\n",
    "        break\n",
    "\n",
    "cap.release()\n",
    "cv2.destroyAllWindows()"
   ]
  },
  {
   "cell_type": "code",
   "execution_count": null,
   "id": "ac182f4e-b551-4ceb-b199-084a169c8358",
   "metadata": {},
   "outputs": [],
   "source": [
    "#(656, 368, 3)"
   ]
  }
 ],
 "metadata": {
  "kernelspec": {
   "display_name": "Python 3 (ipykernel)",
   "language": "python",
   "name": "python3"
  },
  "language_info": {
   "codemirror_mode": {
    "name": "ipython",
    "version": 3
   },
   "file_extension": ".py",
   "mimetype": "text/x-python",
   "name": "python",
   "nbconvert_exporter": "python",
   "pygments_lexer": "ipython3",
   "version": "3.11.3"
  }
 },
 "nbformat": 4,
 "nbformat_minor": 5
}
