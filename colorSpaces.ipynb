{
 "cells": [
  {
   "cell_type": "code",
   "execution_count": 51,
   "id": "56591f29-41fa-4ea2-b671-40b19685f895",
   "metadata": {},
   "outputs": [],
   "source": [
    "import cv2 \n",
    "import numpy as np \n",
    "import matplotlib.pyplot as plt"
   ]
  },
  {
   "cell_type": "markdown",
   "id": "35034d8a-3ffa-441a-bf75-2db638d5a952",
   "metadata": {},
   "source": [
    "# Flip, Rotate and Transpose using opencv"
   ]
  },
  {
   "cell_type": "code",
   "execution_count": 8,
   "id": "3fc97b82-38fa-4b1b-a334-705e5754980d",
   "metadata": {},
   "outputs": [],
   "source": [
    "img = cv2.imread('Images/buttler.jpg')\n",
    "# img = cv2.flip(img, 1) # y axis\n",
    "# img = cv2.flip(img, 0) # x axis\n",
    "# img = cv2.flip(img, -1) # x,y axis\n",
    "# img = cv2.rotate(img,cv2.ROTATE_90_CLOCKWISE) # rotation\n",
    "img = cv2.transpose(img)\n",
    "cv2.imshow(\"Opencv\",img)\n",
    "\n",
    "cv2.waitKey(0)\n",
    "cv2.destroyAllWindows()"
   ]
  },
  {
   "cell_type": "markdown",
   "id": "9ead310a-180a-4d5d-8c29-a5a4297db356",
   "metadata": {},
   "source": [
    "# Saving a video using opencv"
   ]
  },
  {
   "cell_type": "code",
   "execution_count": 5,
   "id": "96de6ad7-6220-44a0-a59e-49082ef05bba",
   "metadata": {},
   "outputs": [],
   "source": [
    "cap1 = cv2.VideoCapture(0)\n",
    "f = cv2.VideoWriter_fourcc(*\"XVID\")\n",
    "out = cv2.VideoWriter(\"Images/demooooo.mp4\",f,40.0,(640,480)) # 0 after pixel to have black and whte phots\n",
    "while cap1.isOpened():\n",
    "    r,frame = cap1.read()\n",
    "    if r == True:\n",
    "        # frame = cv2.cvtColor(frame,cv2.COLOR_BGR2GRAY)\n",
    "        frame = cv2.flip(frame,1)\n",
    "        out.write(frame)\n",
    "        cv2.imshow(\"Opencv\",frame)\n",
    "        if cv2.waitKey(1) & 0xff == ord(\"p\"):\n",
    "            break\n",
    "        \n",
    "    else:\n",
    "        break\n",
    "cap1.release()\n",
    "out.release()\n",
    "cv2.destroyAllWindows()"
   ]
  },
  {
   "cell_type": "markdown",
   "id": "47a0afb9-89a1-4d2f-8268-96bc0c30c112",
   "metadata": {},
   "source": [
    "# Color Spaces in opencv"
   ]
  },
  {
   "cell_type": "markdown",
   "id": "b355bac1-cd7f-48b6-b867-df61673483de",
   "metadata": {},
   "source": [
    "- **`Color spaces`** are a way to represent the color channels present in the image that gives the image that particular hue.\n",
    "-  **BGR color space** : OpenCV's default color space is RGB(0-255)\n",
    "-  **HSV color space** : It stores color information in a cylindircal representation of RGB color points. Hue value vaires from 0-179, saturation value varies from 0-255 and Value value varies from 0-255\n",
    "-  **CMYK color space** : Unlike, RGB it is s subtractive color space. The CMYK model works by partially or entirely masking colores on a lighter, usually white, background"
   ]
  },
  {
   "cell_type": "markdown",
   "id": "fcdf001d-730d-49d7-92e8-c92a1d2f7064",
   "metadata": {},
   "source": [
    "# Object Detect"
   ]
  },
  {
   "cell_type": "code",
   "execution_count": 8,
   "id": "8231d9fa-8f2a-4acb-996c-7a17c567a1f1",
   "metadata": {},
   "outputs": [],
   "source": [
    "img = cv2.imread(\"Images/egg.jpg\")\n",
    "def hancy(x):\n",
    "    pass\n",
    "cv2.namedWindow(\"egg\")\n",
    "cv2.createTrackbar(\"lb\",\"egg\",0,255,hancy)\n",
    "cv2.createTrackbar(\"lg\",\"egg\",0,255,hancy)\n",
    "cv2.createTrackbar(\"lr\",\"egg\",0,255,hancy)\n",
    "\n",
    "cv2.createTrackbar(\"ub\",\"egg\",0,255,hancy)\n",
    "cv2.createTrackbar(\"ug\",\"egg\",0,255,hancy)\n",
    "cv2.createTrackbar(\"ur\",\"egg\",0,255,hancy)\n",
    "while True:\n",
    "    hsv_img = cv2.cvtColor(img,cv2.COLOR_BGR2HSV)\n",
    "    Lb = cv2.getTrackbarPos(\"lb\",\"egg\")\n",
    "    Lg = cv2.getTrackbarPos(\"lg\",\"egg\")\n",
    "    Lr = cv2.getTrackbarPos(\"lr\",\"egg\")\n",
    "\n",
    "    Ub = cv2.getTrackbarPos(\"ub\",\"egg\")\n",
    "    Ug = cv2.getTrackbarPos(\"ug\",\"egg\")\n",
    "    Ur = cv2.getTrackbarPos(\"ur\",\"egg\")\n",
    "\n",
    "    lo = np.array([Lb,Lg,Lr])\n",
    "    up = np.array([Ub,Ug,Ur])\n",
    "    masks = cv2.inRange(hsv_img,lo,up)\n",
    "    res = cv2.bitwise_and(img,img,mask=masks)\n",
    "    cv2.imshow(\"res\",res)\n",
    "    cv2.imshow(\"mask\",masks)\n",
    "    cv2.imshow(\"hsv\",hsv_img)\n",
    "    cv2.imshow(\"Opencv\",img)\n",
    "    if cv2.waitKey(25) & 0xff == ord(\"p\"):\n",
    "            break\n",
    "    \n",
    "\n",
    "\n",
    "cv2.destroyAllWindows()"
   ]
  },
  {
   "cell_type": "markdown",
   "id": "9fc99b26-9354-4e69-a22e-bbd399d348e8",
   "metadata": {},
   "source": [
    "# Filter color with opencv (Live object Filter)"
   ]
  },
  {
   "cell_type": "code",
   "execution_count": 10,
   "id": "0a0db7a5-c915-48fa-8ca1-04fe9512c1e3",
   "metadata": {},
   "outputs": [],
   "source": [
    "cap = cv2.VideoCapture(0)\n",
    "def hancy(x):\n",
    "    pass\n",
    "cv2.namedWindow(\"egg\")\n",
    "cv2.createTrackbar(\"lb\",\"egg\",0,255,hancy)\n",
    "cv2.createTrackbar(\"lg\",\"egg\",0,255,hancy)\n",
    "cv2.createTrackbar(\"lr\",\"egg\",0,255,hancy)\n",
    "\n",
    "cv2.createTrackbar(\"ub\",\"egg\",255,255,hancy)\n",
    "cv2.createTrackbar(\"ug\",\"egg\",255,255,hancy)\n",
    "cv2.createTrackbar(\"ur\",\"egg\",255,255,hancy)\n",
    "while cap.isOpened():\n",
    "    r,frame = cap.read()\n",
    "    if r == True:\n",
    "        img = cv2.resize(frame,(400,300)) \n",
    "        hsv_img = cv2.cvtColor(img,cv2.COLOR_BGR2HSV)\n",
    "        Lb = cv2.getTrackbarPos(\"lb\",\"egg\")\n",
    "        Lg = cv2.getTrackbarPos(\"lg\",\"egg\")\n",
    "        Lr = cv2.getTrackbarPos(\"lr\",\"egg\")\n",
    "    \n",
    "        Ub = cv2.getTrackbarPos(\"ub\",\"egg\")\n",
    "        Ug = cv2.getTrackbarPos(\"ug\",\"egg\")\n",
    "        Ur = cv2.getTrackbarPos(\"ur\",\"egg\")\n",
    "    \n",
    "        lo = np.array([Lb,Lg,Lr])\n",
    "        up = np.array([Ub,Ug,Ur])\n",
    "        masks = cv2.inRange(hsv_img,lo,up)\n",
    "        res = cv2.bitwise_and(img,img,mask=masks)\n",
    "        cv2.imshow(\"res\",res)\n",
    "        cv2.imshow(\"mask\",masks)\n",
    "        cv2.imshow(\"hsv\",hsv_img)\n",
    "        cv2.imshow(\"Opencv\",img)\n",
    "        if cv2.waitKey(25) & 0xff == ord(\"p\"):\n",
    "                break\n",
    "    else:\n",
    "        break\n",
    "cap.release()  \n",
    "cv2.destroyAllWindows()"
   ]
  },
  {
   "cell_type": "markdown",
   "id": "33533ef3-7c41-4c58-b02a-57a4ae9f76b1",
   "metadata": {},
   "source": [
    "# Perspective Transformation Opencv"
   ]
  },
  {
   "cell_type": "code",
   "execution_count": 19,
   "id": "f158ef27-feae-4605-8286-871d616df4d5",
   "metadata": {},
   "outputs": [
    {
     "name": "stdout",
     "output_type": "stream",
     "text": [
      "(736, 736, 3)\n"
     ]
    }
   ],
   "source": [
    "img = cv2.imread(\"Images/dhiii.jpg\")\n",
    "# img = cv2.resize(img,(500,500))\n",
    "cv2.circle(img,(140,34),4,(0,0,255),-1)\n",
    "cv2.circle(img,(692,92),4,(0,0,255),-1)\n",
    "cv2.circle(img,(20,650),4,(0,0,255),-1)\n",
    "cv2.circle(img,(678,698),4,(0,0,255),-1)\n",
    "print(img.shape)\n",
    "cv2.imshow(\"opencv\",img)\n",
    "cv2.waitKey(0)\n",
    "cv2.destroyAllWindows()"
   ]
  },
  {
   "cell_type": "code",
   "execution_count": 18,
   "id": "164b883a-5bce-43bc-a3d0-5bfb34cdf161",
   "metadata": {},
   "outputs": [],
   "source": [
    "# src1 = np.float32([[140,34],[692,92],[20,650],[678,698]])\n",
    "# src1"
   ]
  },
  {
   "cell_type": "code",
   "execution_count": 20,
   "id": "695d6ca3-1e81-42b4-8537-4daf44d2283b",
   "metadata": {},
   "outputs": [],
   "source": [
    "img = cv2.imread(\"Images/dhiii.jpg\")\n",
    "w,h = (736,736)\n",
    "src1 = np.float32([[140,34],[692,92],[20,650],[678,698]])\n",
    "dst1 = np.float32([[0,0],[w,0],[0,h],[w,h]])\n",
    "m = cv2.getPerspectiveTransform(src1,dst1)\n",
    "new_img = cv2.warpPerspective(img,m,(w,h))\n",
    "cv2.imshow(\"opencv\",img)\n",
    "cv2.imshow(\"pres\",new_img)\n",
    "cv2.waitKey(0)\n",
    "cv2.destroyAllWindows()"
   ]
  },
  {
   "cell_type": "markdown",
   "id": "b4e16a9a-3c38-48bb-8555-e4efd6ae164d",
   "metadata": {},
   "source": [
    "# Threshold Image"
   ]
  },
  {
   "cell_type": "markdown",
   "id": "575c68ec-197a-4d0e-8220-918ca653024e",
   "metadata": {},
   "source": [
    "Thresholding is one of the most common (and basic) segmentation techniques in computer vision and it allows us to seperate the foreground(i.e, the objects that we are interested in) from the background of the image. It is the binarization of an image\n",
    "**Thresholding comes in three forms:**\n",
    "- Simple Thresholding\n",
    "- Otsu's Thresholding\n",
    "- Adaptive Thresholding"
   ]
  },
  {
   "cell_type": "code",
   "execution_count": 48,
   "id": "ea5c6913-e120-4d4d-81a7-0c29a61b06ec",
   "metadata": {},
   "outputs": [],
   "source": [
    "img = cv2.imread(\"Images/mother.jpg\")\n",
    "img = cv2.resize(img,(600,600))\n",
    "img = cv2.cvtColor(img,cv2.COLOR_BGR2GRAY)\n",
    "# _,th = cv2.threshold(img,180,255,cv2.THRESH_BINARY)\n",
    "# _,th = cv2.threshold(img,100,255,cv2.THRESH_BINARY_INV)\n",
    "_,th = cv2.threshold(img,180,255,cv2.THRESH_TRIANGLE)\n",
    "cv2.imshow(\"opencv\",th)\n",
    "cv2.imshow(\"pres\",img)\n",
    "cv2.waitKey(0)\n",
    "cv2.destroyAllWindows()"
   ]
  },
  {
   "cell_type": "markdown",
   "id": "0e2b8691-87c7-4bb0-a52f-6f4f7987e4fd",
   "metadata": {},
   "source": [
    "### Otus's Binarization Threshold"
   ]
  },
  {
   "cell_type": "markdown",
   "id": "e25ef96e-8cda-4b94-a7e7-daf5c03625d3",
   "metadata": {},
   "source": [
    "In global Thresholding, we used  an arbitray chosen value as a threshold. Otsu's method  avoid having to choose a value and determines it automatically.\n",
    "Otsu's algorithm tires to find a threshold value(t) which minimizes the weighted within-class variance given by the relation. \n",
    "![Otsus](Images/formula.png)"
   ]
  },
  {
   "cell_type": "code",
   "execution_count": 56,
   "id": "e7945716-d89b-4fcf-9bc7-d9489fe42ed8",
   "metadata": {},
   "outputs": [
    {
     "data": {
      "image/png": "[encoded data removed]",
      "text/plain": [
       "<Figure size 640x480 with 1 Axes>"
      ]
     },
     "metadata": {},
     "output_type": "display_data"
    }
   ],
   "source": [
    "img = cv2.imread(\"Images/green-leaf-13924003.webp\")\n",
    "img = cv2.cvtColor(img, cv2.COLOR_BGR2GRAY)\n",
    "hist = cv2.calcHist([img],[0],None,[255],[0,255])\n",
    "plt.plot(hist)\n",
    "plt.show()\n",
    "cv2.imshow(\"leaf\",img)\n",
    "cv2.waitKey(0)\n",
    "cv2.destroyAllWindows()"
   ]
  },
  {
   "cell_type": "code",
   "execution_count": 59,
   "id": "deeaef61-733c-425c-80d6-af4da8f220a4",
   "metadata": {},
   "outputs": [],
   "source": [
    "img = cv2.imread(\"Images/green-leaf-13924003.webp\")\n",
    "img = cv2.cvtColor(img, cv2.COLOR_BGR2GRAY)\n",
    "# hist = cv2.calcHist([img],[0],None,[255],[0,255])\n",
    "# plt.plot(hist)\n",
    "# plt.show()\n",
    "_,th = cv2.threshold(img,200,255,cv2.THRESH_BINARY+cv2.THRESH_OTSU)\n",
    "cv2.imshow(\"leaf\",img)\n",
    "cv2.imshow(\"leafth\",th)\n",
    "cv2.waitKey(0)\n",
    "cv2.destroyAllWindows()"
   ]
  },
  {
   "cell_type": "code",
   "execution_count": null,
   "id": "5aeecb35-8766-4580-ac25-e58aa5655718",
   "metadata": {},
   "outputs": [],
   "source": []
  }
 ],
 "metadata": {
  "kernelspec": {
   "display_name": "Python 3 (ipykernel)",
   "language": "python",
   "name": "python3"
  },
  "language_info": {
   "codemirror_mode": {
    "name": "ipython",
    "version": 3
   },
   "file_extension": ".py",
   "mimetype": "text/x-python",
   "name": "python",
   "nbconvert_exporter": "python",
   "pygments_lexer": "ipython3",
   "version": "3.11.3"
  }
 },
 "nbformat": 4,
 "nbformat_minor": 5
}
